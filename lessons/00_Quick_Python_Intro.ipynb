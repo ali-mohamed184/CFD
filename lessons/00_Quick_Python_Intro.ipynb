{
 "metadata": {
  "name": "",
  "signature": "sha256:0c0d5a8b66a7afcc302f4a0b9f42facf9b2f0e6a5e9ed3ab4debbe286adf0f44"
 },
 "nbformat": 3,
 "nbformat_minor": 0,
 "worksheets": [
  {
   "cells": [
    {
     "cell_type": "heading",
     "level": 1,
     "metadata": {},
     "source": [
      "Python Crash Course"
     ]
    },
    {
     "cell_type": "markdown",
     "metadata": {},
     "source": [
      "Hello! This is a quick intro to programming in Python to help you hit the ground running with the _12 Steps to Navier-Stokes_.  "
     ]
    },
    {
     "cell_type": "heading",
     "level": 2,
     "metadata": {},
     "source": [
      "Libraries"
     ]
    },
    {
     "cell_type": "markdown",
     "metadata": {},
     "source": [
      "Python is a high-level open-source language.  But the _Python world_ is inhabited by many packages or libraries that provide useful things like array operations, plotting functions, and much more. We can import libraries of functions to expand the capabilities of Python in our programs.  \n",
      "OK! We'll start by importing a few libraries to help us out."
     ]
    },
    {
     "cell_type": "code",
     "collapsed": false,
     "input": [
      "#comments in python are denoted by the pound sign\n",
      "import numpy as np                 #numpy is a library we're importing that provides a bunch of useful matrix operations akin to MATLAB\n",
      "import matplotlib.pyplot as plt    #matplotlib is 2D plotting library which we will use to plot our results"
     ],
     "language": "python",
     "metadata": {},
     "outputs": []
    },
    {
     "cell_type": "markdown",
     "metadata": {},
     "source": [
      "So what's all of this import-as business? We are importing one library named `numpy` and we are importing a sub-library of a big package called `matplotlib`.  Because the functions we want to use belong to these libraries, we have to tell Python to look at those libraries when we call a particular function.  The two lines above have created shortcuts to those libraries named `np` and `plt`, respectively.  So if we want to use the numpy function `linspace`, for instance, we can call it by writing:"
     ]
    },
    {
     "cell_type": "code",
     "collapsed": false,
     "input": [
      "myarray = np.linspace(0, 5, 10)\n",
      "myarray"
     ],
     "language": "python",
     "metadata": {},
     "outputs": []
    },
    {
     "cell_type": "markdown",
     "metadata": {},
     "source": [
      "If we don't preface the `linspace` function with `np`, Python will throw an error."
     ]
    },
    {
     "cell_type": "code",
     "collapsed": false,
     "input": [
      "myarray = linspace(0, 5, 10)"
     ],
     "language": "python",
     "metadata": {},
     "outputs": []
    },
    {
     "cell_type": "markdown",
     "metadata": {},
     "source": [
      "Sometimes, you'll see people importing a whole library without assigning a shortcut for it (like `np` here for `numpy`). This saves typing but is sloppy and can get you in trouble. Best to get into good habits from the beginning!\n",
      "\n",
      "To learn new functions available to you, visit the [NumPy Reference](http://docs.scipy.org/doc/numpy/reference/) page. If you are a proficient `Matlab` user, there is a wiki page that should prove helpful to you: [NumPy for Matlab Users](http://wiki.scipy.org/NumPy_for_Matlab_Users)"
     ]
    },
    {
     "cell_type": "heading",
     "level": 2,
     "metadata": {},
     "source": [
      "Variables"
     ]
    },
    {
     "cell_type": "markdown",
     "metadata": {},
     "source": [
      "Python doesn't require explicitly declared variable types like C and other languages.  "
     ]
    },
    {
     "cell_type": "code",
     "collapsed": false,
     "input": [
      "a = 5      #a is an integer 5\n",
      "b = 'five' #b is a string of the word 'five'\n",
      "c = 5.0    #c is a floating point 5  "
     ],
     "language": "python",
     "metadata": {},
     "outputs": []
    },
    {
     "cell_type": "code",
     "collapsed": false,
     "input": [
      "type(a)"
     ],
     "language": "python",
     "metadata": {},
     "outputs": []
    },
    {
     "cell_type": "code",
     "collapsed": false,
     "input": [
      "type(b)"
     ],
     "language": "python",
     "metadata": {},
     "outputs": []
    },
    {
     "cell_type": "code",
     "collapsed": false,
     "input": [
      "type(c)"
     ],
     "language": "python",
     "metadata": {},
     "outputs": []
    },
    {
     "cell_type": "heading",
     "level": 2,
     "metadata": {},
     "source": [
      "Whitespace in Python"
     ]
    },
    {
     "cell_type": "markdown",
     "metadata": {},
     "source": [
      "Python uses indents and whitespace to group statements together.  To write a short loop in C, you might use:\n",
      "\n",
      "    for (i = 0, i < 5, i++){\n",
      "       printf(\"Hi! \\n\");\n",
      "    }"
     ]
    },
    {
     "cell_type": "markdown",
     "metadata": {},
     "source": [
      "Python does not use curly braces like C, so the same program as above is written in Python as follows:"
     ]
    },
    {
     "cell_type": "code",
     "collapsed": false,
     "input": [
      "for i in range(5):\n",
      "    print(\"Hi \\n\")"
     ],
     "language": "python",
     "metadata": {},
     "outputs": []
    },
    {
     "cell_type": "markdown",
     "metadata": {},
     "source": [
      "If you have nested for-loops, there is a further indent for the inner loop."
     ]
    },
    {
     "cell_type": "code",
     "collapsed": false,
     "input": [
      "for i in range(3):\n",
      "    for j in range(3):\n",
      "        print(i, j)\n",
      "    \n",
      "    print(\"This statement is within the i-loop, but not the j-loop\")"
     ],
     "language": "python",
     "metadata": {},
     "outputs": []
    },
    {
     "cell_type": "heading",
     "level": 2,
     "metadata": {},
     "source": [
      "Slicing Arrays"
     ]
    },
    {
     "cell_type": "markdown",
     "metadata": {},
     "source": [
      "In NumPy, you can look at portions of arrays in the same way as in `Matlab`, with a few extra tricks thrown in.  Let's take an array of values from 1 to 5."
     ]
    },
    {
     "cell_type": "code",
     "collapsed": false,
     "input": [
      "myvals = np.array([1, 2, 3, 4, 5])\n",
      "myvals"
     ],
     "language": "python",
     "metadata": {},
     "outputs": []
    },
    {
     "cell_type": "markdown",
     "metadata": {},
     "source": [
      "Python uses a **zero-based index**, so let's look at the first and last element in the array `myvals`"
     ]
    },
    {
     "cell_type": "code",
     "collapsed": false,
     "input": [
      "myvals[0], myvals[4]"
     ],
     "language": "python",
     "metadata": {},
     "outputs": []
    },
    {
     "cell_type": "markdown",
     "metadata": {},
     "source": [
      "There are 5 elements in the array `myvals`, but if we try to look at `myvals[5]`, Python will be unhappy, as `myvals[5]` is actually calling the non-existent 6th element of that array."
     ]
    },
    {
     "cell_type": "code",
     "collapsed": false,
     "input": [
      "myvals[5]"
     ],
     "language": "python",
     "metadata": {},
     "outputs": []
    },
    {
     "cell_type": "markdown",
     "metadata": {},
     "source": [
      "Arrays can also be 'sliced', grabbing a range of values.  Let's look at the first three elements"
     ]
    },
    {
     "cell_type": "code",
     "collapsed": false,
     "input": [
      "myvals[0:3]"
     ],
     "language": "python",
     "metadata": {},
     "outputs": []
    },
    {
     "cell_type": "markdown",
     "metadata": {},
     "source": [
      "Note here, the slice is inclusive on the front end and exclusive on the back, so the above command gives us the values of `myvals[0]`, `myvals[1]` and `myvals[2]`, but not `myvals[3]`."
     ]
    },
    {
     "cell_type": "heading",
     "level": 2,
     "metadata": {},
     "source": [
      "Assigning Array Variables"
     ]
    },
    {
     "cell_type": "markdown",
     "metadata": {},
     "source": [
      "One of the strange little quirks/features in Python that often confuses people comes up when assigning and comparing arrays of values.  Here is a quick example.  Let's start by defining a 1-D array called $a$:"
     ]
    },
    {
     "cell_type": "code",
     "collapsed": false,
     "input": [
      "a = np.linspace(1,5,5)"
     ],
     "language": "python",
     "metadata": {},
     "outputs": []
    },
    {
     "cell_type": "code",
     "collapsed": false,
     "input": [
      "a"
     ],
     "language": "python",
     "metadata": {},
     "outputs": []
    },
    {
     "cell_type": "markdown",
     "metadata": {},
     "source": [
      "OK, so we have an array $a$, with the values 1 through 5.  I want to make a copy of that array, called $b$, so I'll try the following:"
     ]
    },
    {
     "cell_type": "code",
     "collapsed": false,
     "input": [
      "b = a"
     ],
     "language": "python",
     "metadata": {},
     "outputs": []
    },
    {
     "cell_type": "code",
     "collapsed": false,
     "input": [
      "b"
     ],
     "language": "python",
     "metadata": {},
     "outputs": []
    },
    {
     "cell_type": "markdown",
     "metadata": {},
     "source": [
      "Great.  So $a$ has the values 1 through 5 and now so does $b$.  Now that I have a backup of $a$, I can change its values without worrying about losing data (or so I may think!)."
     ]
    },
    {
     "cell_type": "code",
     "collapsed": false,
     "input": [
      "a[2] = 17"
     ],
     "language": "python",
     "metadata": {},
     "outputs": []
    },
    {
     "cell_type": "code",
     "collapsed": false,
     "input": [
      "a"
     ],
     "language": "python",
     "metadata": {},
     "outputs": []
    },
    {
     "cell_type": "markdown",
     "metadata": {},
     "source": [
      "Here, the 3rd element of $a$ has been changed to 17.  Now let's check on $b$."
     ]
    },
    {
     "cell_type": "code",
     "collapsed": false,
     "input": [
      "b"
     ],
     "language": "python",
     "metadata": {},
     "outputs": []
    },
    {
     "cell_type": "markdown",
     "metadata": {},
     "source": [
      "And that's how things go wrong!  When you use a statement like $a = b$, rather than copying all the values of $a$ into a new array called $b$, Python just creates an alias (or a pointer) called $b$ and tells it to route us to $a$.  So if we change a value in $a$ then $b$ will reflect that change (technically, this is called *assignment by reference*).  If you want to make a true copy of the array, you have to tell Python to copy every element of $a$ into a new array.  Let's call it $c$.  "
     ]
    },
    {
     "cell_type": "code",
     "collapsed": false,
     "input": [
      "c[:] = a[:]"
     ],
     "language": "python",
     "metadata": {},
     "outputs": []
    },
    {
     "cell_type": "markdown",
     "metadata": {},
     "source": [
      "Unfortunately, if we want to make the true copy, the new array has to be defined first and has to have the correct number of elements.  So it will be a two-step process.  We can define an \"empty\" array that is the same size as $a$ by using the numpy function `empty_like`:"
     ]
    },
    {
     "cell_type": "code",
     "collapsed": false,
     "input": [
      "c = np.empty_like(a)"
     ],
     "language": "python",
     "metadata": {},
     "outputs": []
    },
    {
     "cell_type": "code",
     "collapsed": false,
     "input": [
      "len(c) #shows us how long c is"
     ],
     "language": "python",
     "metadata": {},
     "outputs": []
    },
    {
     "cell_type": "code",
     "collapsed": false,
     "input": [
      "c[:]=a[:]"
     ],
     "language": "python",
     "metadata": {},
     "outputs": []
    },
    {
     "cell_type": "code",
     "collapsed": false,
     "input": [
      "c"
     ],
     "language": "python",
     "metadata": {},
     "outputs": []
    },
    {
     "cell_type": "markdown",
     "metadata": {},
     "source": [
      "Now, we can try again to change a value in $a$ and see if the changes are also seen in $c$.  "
     ]
    },
    {
     "cell_type": "code",
     "collapsed": false,
     "input": [
      "a[2] = 3"
     ],
     "language": "python",
     "metadata": {},
     "outputs": []
    },
    {
     "cell_type": "code",
     "collapsed": false,
     "input": [
      "a"
     ],
     "language": "python",
     "metadata": {},
     "outputs": []
    },
    {
     "cell_type": "code",
     "collapsed": false,
     "input": [
      "c"
     ],
     "language": "python",
     "metadata": {},
     "outputs": []
    },
    {
     "cell_type": "markdown",
     "metadata": {},
     "source": [
      "OK, it worked!  If the difference between `a = b` and `a[:]=b[:]` is unclear, you should read through this again.  This issue will come back to haunt you otherwise."
     ]
    },
    {
     "cell_type": "heading",
     "level": 2,
     "metadata": {},
     "source": [
      "Learn More"
     ]
    },
    {
     "cell_type": "markdown",
     "metadata": {},
     "source": [
      "There are a lot of resources online to learn more about using NumPy and other libraries. Just for kicks, here we use IPython's feature for embedding videos to point you to a short video on YouTube on using NumPy arrays."
     ]
    },
    {
     "cell_type": "code",
     "collapsed": false,
     "input": [
      "from IPython.display import YouTubeVideo\n",
      "# a short video about using NumPy arrays, from Enthought\n",
      "YouTubeVideo('vWkb7VahaXQ')"
     ],
     "language": "python",
     "metadata": {},
     "outputs": []
    },
    {
     "cell_type": "code",
     "collapsed": false,
     "input": [
      "from IPython.core.display import HTML\n",
      "def css_styling():\n",
      "    styles = open(\"../styles/custom.css\", \"r\").read()\n",
      "    return HTML(styles)\n",
      "css_styling()"
     ],
     "language": "python",
     "metadata": {},
     "outputs": []
    }
   ],
   "metadata": {}
  }
 ]
}